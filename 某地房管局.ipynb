{
 "cells": [
  {
   "cell_type": "markdown",
   "metadata": {},
   "source": [
    "* 由于临时需要某地市房改信息，便爬取了某地房管局有关房改的所有信息。\n",
    "* 只爬一次，避免造成网站"
   ]
  },
  {
   "cell_type": "code",
   "execution_count": null,
   "metadata": {},
   "outputs": [],
   "source": [
    "from bs4 import BeautifulSoup\n",
    "import requests\n",
    "import pandas as pd\n",
    "\n",
    "base_url = 'http://www.lyzbj.org.cn'\n",
    "api_url = '/plus/list.php?tid=3'\n",
    "res = {}\n",
    "while api_url:\n",
    "    r = requests.get(base_url + api_url)\n",
    "    r.encoding = 'gb2312'\n",
    "    html_doc = r.text\n",
    "    soup = BeautifulSoup(html_doc, 'lxml')\n",
    "    #下一页的链接\n",
    "    next_page = soup.find('a', text =  '下一页')\n",
    "    print(next_page)\n",
    "    api_url = next_page.get('href') if next_page else None\n",
    "    \n",
    "    # 目录列表和链接\n",
    "    contents_tag = soup.find(class_='nrlb')\n",
    "    events = contents_tag.find_all('a')\n",
    "    for e in events:\n",
    "        article_title = e.get_text()\n",
    "        article_href = e.get('href')\n",
    "        if('房改' in article_title):\n",
    "            res[article_title] = base_url + article_href\n",
    "df = pd.DataFrame(list(res.items()), columns = ['title', 'href'])\n",
    "df"
   ]
  }
 ],
 "metadata": {
  "kernelspec": {
   "display_name": "Python 3",
   "language": "python",
   "name": "python3"
  },
  "language_info": {
   "codemirror_mode": {
    "name": "ipython",
    "version": 3
   },
   "file_extension": ".py",
   "mimetype": "text/x-python",
   "name": "python",
   "nbconvert_exporter": "python",
   "pygments_lexer": "ipython3",
   "version": "3.7.1"
  }
 },
 "nbformat": 4,
 "nbformat_minor": 2
}
